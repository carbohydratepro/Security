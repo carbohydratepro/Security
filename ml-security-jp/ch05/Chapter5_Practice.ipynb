{
  "nbformat": 4,
  "nbformat_minor": 0,
  "metadata": {
    "colab": {
      "name": "Chapter5-Practice",
      "provenance": [],
      "collapsed_sections": []
    },
    "kernelspec": {
      "name": "python3",
      "display_name": "Python 3"
    }
  },
  "cells": [
    {
      "cell_type": "markdown",
      "metadata": {
        "id": "77tgIFLlTc2_"
      },
      "source": [
        "![表紙](https://www.oreilly.co.jp/books/images/picture978-4-87311-907-6.gif)\n",
        "\n",
        "このノートブックはオライリー・ジャパンより発行の書籍[『セキュリティエンジニアのための機械学習』](https://www.oreilly.co.jp/books/9784873119076/)のサンプルコードです。コードの解説等は書籍をご参照ください。なお、このコードを動作させた結果について、著者およびオライリー・ジャパンは一切の責任を負いません。"
      ]
    },
    {
      "cell_type": "code",
      "metadata": {
        "id": "mqYU1gygmmg2"
      },
      "source": [
        "import tweepy\n",
        "import json\n",
        "import numpy as np\n",
        "import pandas as pd\n",
        "\n",
        "# APIを使用するための鍵\n",
        "consumer_key=\"YOUR KEY\"\n",
        "consumer_secret=\"YOUR KEY\"\n",
        "access_token=\"YOUR KEY\"\n",
        "access_token_secret=\"YOUR KEY\"\n",
        "\n",
        "# TweepyによるTwitter APIを使用するための認証のセットアップ\n",
        "auth = tweepy.OAuthHandler(consumer_key, consumer_secret)\n",
        "auth.set_access_token(access_token, access_token_secret)\n",
        "\n",
        "# パラメータwait_on_rate_limitを有効化して、 APIの問い合わせ回数の上限に達した場合は必要時間だけ待機\n",
        "api = tweepy.API(auth, parser=tweepy.parsers.JSONParser(), wait_on_rate_limit=True, wait_on_rate_limit_notify=True)"
      ],
      "execution_count": null,
      "outputs": []
    },
    {
      "cell_type": "code",
      "metadata": {
        "colab": {
          "base_uri": "https://localhost:8080/"
        },
        "id": "-JH9rbk8obdH",
        "outputId": "155666a5-e3d8-407c-fed0-9bb1a4bd19d3"
      },
      "source": [
        "# 検索ワードとして exploit http を使用し、リツイートは除外\n",
        "search_term = \"exploit http -filter:retweets\"\n",
        "\n",
        "# 一番古いツイートidを保存するための変数\n",
        "oldest_tweet = None\n",
        "\n",
        "# 回収したツイートの一覧を格納するためのリスト\n",
        "TempDict = []\n",
        "\n",
        "# 回収したツイート数のカウンター\n",
        "counter = 0\n",
        "\n",
        "# １０回ループし、合計1000件のツイートを対象にする\n",
        "for x in range(10):\n",
        "\n",
        "    # 最新のツイートから100件を抽出し、テキストをすべて収集する\n",
        "    public_tweets = api.search(search_term, \n",
        "                               count=100, \n",
        "                               result_type=\"recent\",\n",
        "                               tweet_mode=\"extended\", \n",
        "                               max_id=oldest_tweet)\n",
        "\n",
        "    # 条件に一致するツイートの収集\n",
        "    for tweet in public_tweets[\"statuses\"]:\n",
        "        #　引用リツイートも除外\n",
        "        if not 'quoted_status' in tweet:\n",
        "            TempDict.append(tweet)\n",
        "                            \n",
        "            # カウンターに１を追加\n",
        "            counter += 1\n",
        "\n",
        "        # 検索結果の一番古いツイートidを代入し、次の検索結果はこの一番古いid\n",
        "        # より古いものだけを対象にする\n",
        "        oldest_tweet = tweet[\"id\"]\n",
        "\n",
        "print(\"Tweet {}件を収集しました\".format(counter))"
      ],
      "execution_count": null,
      "outputs": [
        {
          "output_type": "stream",
          "text": [
            "Tweet 451件を収集しました\n"
          ],
          "name": "stdout"
        }
      ]
    },
    {
      "cell_type": "code",
      "metadata": {
        "id": "4bo0RSk_XLhG"
      },
      "source": [
        "data = pd.DataFrame(data=[tweet['full_text'] for tweet in TempDict], columns=['TweetText'])"
      ],
      "execution_count": null,
      "outputs": []
    },
    {
      "cell_type": "code",
      "metadata": {
        "id": "DCOba0fh3PG7"
      },
      "source": [
        "import re\n",
        "URLPATTERN = r'(https?://\\S+)'\n",
        "\n",
        "data['URL'] = data[\"TweetText\"].str.extract(URLPATTERN, expand=False).str.strip()"
      ],
      "execution_count": null,
      "outputs": []
    },
    {
      "cell_type": "code",
      "metadata": {
        "id": "UjvYDKLnfzYU"
      },
      "source": [
        "# ツイートしたユーザーのフォロワー数の追加\n",
        "data['followers_count'] = \\\n",
        "pd.DataFrame(data=[tweet['user']['followers_count'] \\\n",
        "                   for tweet in TempDict])"
      ],
      "execution_count": null,
      "outputs": []
    },
    {
      "cell_type": "code",
      "metadata": {
        "id": "AcPa6iA4gcVm"
      },
      "source": [
        "# ツイートしたユーザーの「いいね！」された数の追加\n",
        "data['favourites_count'] = \\\n",
        "pd.DataFrame(data=[tweet['user']['favourites_count'] \\\n",
        "                   for tweet in TempDict])"
      ],
      "execution_count": null,
      "outputs": []
    },
    {
      "cell_type": "code",
      "metadata": {
        "id": "GjrKJemOgnH4"
      },
      "source": [
        "# ツイートしたユーザーが認証済みアカウントであるか、そうでないかの情報を追加\n",
        "data['verified'] = \\\n",
        "pd.DataFrame(data=[tweet['user']['verified'] \\\n",
        "                   for tweet in TempDict])"
      ],
      "execution_count": null,
      "outputs": []
    },
    {
      "cell_type": "code",
      "metadata": {
        "colab": {
          "base_uri": "https://localhost:8080/",
          "height": 669
        },
        "id": "Jo3oehJYekRh",
        "outputId": "84464fbe-4039-4363-f003-21a23a2d6ff5"
      },
      "source": [
        "data.head(20)"
      ],
      "execution_count": null,
      "outputs": [
        {
          "output_type": "execute_result",
          "data": {
            "text/html": [
              "<div>\n",
              "<style scoped>\n",
              "    .dataframe tbody tr th:only-of-type {\n",
              "        vertical-align: middle;\n",
              "    }\n",
              "\n",
              "    .dataframe tbody tr th {\n",
              "        vertical-align: top;\n",
              "    }\n",
              "\n",
              "    .dataframe thead th {\n",
              "        text-align: right;\n",
              "    }\n",
              "</style>\n",
              "<table border=\"1\" class=\"dataframe\">\n",
              "  <thead>\n",
              "    <tr style=\"text-align: right;\">\n",
              "      <th></th>\n",
              "      <th>TweetText</th>\n",
              "      <th>URL</th>\n",
              "      <th>followers_count</th>\n",
              "      <th>favourites_count</th>\n",
              "      <th>verified</th>\n",
              "    </tr>\n",
              "  </thead>\n",
              "  <tbody>\n",
              "    <tr>\n",
              "      <th>0</th>\n",
              "      <td>OL : L'exploit face à Man City élu match de l'...</td>\n",
              "      <td>https://t.co/Ih2fyz2b9j</td>\n",
              "      <td>173</td>\n",
              "      <td>31</td>\n",
              "      <td>False</td>\n",
              "    </tr>\n",
              "    <tr>\n",
              "      <th>1</th>\n",
              "      <td>Republican efforts to undermine Biden victory ...</td>\n",
              "      <td>https://t.co/h8r9kOXBuY</td>\n",
              "      <td>19</td>\n",
              "      <td>1031</td>\n",
              "      <td>False</td>\n",
              "    </tr>\n",
              "    <tr>\n",
              "      <th>2</th>\n",
              "      <td>The scattershot efforts to overturn President-...</td>\n",
              "      <td>https://t.co/BubYeURzb2</td>\n",
              "      <td>33</td>\n",
              "      <td>3</td>\n",
              "      <td>False</td>\n",
              "    </tr>\n",
              "    <tr>\n",
              "      <th>3</th>\n",
              "      <td>@MSNBC Only goes to show, how #DonaldTrump wil...</td>\n",
              "      <td>https://t.co/PwzukzW05L</td>\n",
              "      <td>2296</td>\n",
              "      <td>53805</td>\n",
              "      <td>False</td>\n",
              "    </tr>\n",
              "    <tr>\n",
              "      <th>4</th>\n",
              "      <td>exploit frictionless #supply-chains with #doma...</td>\n",
              "      <td>https://t.co/qTvwSQLAvj</td>\n",
              "      <td>1245</td>\n",
              "      <td>220</td>\n",
              "      <td>False</td>\n",
              "    </tr>\n",
              "    <tr>\n",
              "      <th>5</th>\n",
              "      <td>#DeFi insurer @CoverProtocol was exploited for...</td>\n",
              "      <td>https://t.co/hlS98EtpPw</td>\n",
              "      <td>4177</td>\n",
              "      <td>191</td>\n",
              "      <td>False</td>\n",
              "    </tr>\n",
              "    <tr>\n",
              "      <th>6</th>\n",
              "      <td>Thanks for TAB message format. I did some expl...</td>\n",
              "      <td>https://t.co/SZUogOi0Lj</td>\n",
              "      <td>27</td>\n",
              "      <td>1</td>\n",
              "      <td>False</td>\n",
              "    </tr>\n",
              "    <tr>\n",
              "      <th>7</th>\n",
              "      <td>I ruin credit scores, marriages &amp;amp; manipula...</td>\n",
              "      <td>https://t.co/NYQPND6xUo</td>\n",
              "      <td>5503</td>\n",
              "      <td>14959</td>\n",
              "      <td>False</td>\n",
              "    </tr>\n",
              "    <tr>\n",
              "      <th>8</th>\n",
              "      <td>Thinking of publishing the Next Exploit source...</td>\n",
              "      <td>https://t.co/mo06EGORFw</td>\n",
              "      <td>1</td>\n",
              "      <td>5</td>\n",
              "      <td>False</td>\n",
              "    </tr>\n",
              "    <tr>\n",
              "      <th>9</th>\n",
              "      <td>Cyberpunk 2077 speedrunners have found a bunny...</td>\n",
              "      <td>https://t.co/LkLIuuc5Lq</td>\n",
              "      <td>270382</td>\n",
              "      <td>4467</td>\n",
              "      <td>False</td>\n",
              "    </tr>\n",
              "    <tr>\n",
              "      <th>10</th>\n",
              "      <td>Tuvaluans will see how much corporations are w...</td>\n",
              "      <td>https://t.co/SOF8yqPzvc</td>\n",
              "      <td>252</td>\n",
              "      <td>188</td>\n",
              "      <td>False</td>\n",
              "    </tr>\n",
              "    <tr>\n",
              "      <th>11</th>\n",
              "      <td>Packet Storm New Exploits For 2020 https://t.c...</td>\n",
              "      <td>https://t.co/HgBecJPx5m</td>\n",
              "      <td>910</td>\n",
              "      <td>323</td>\n",
              "      <td>False</td>\n",
              "    </tr>\n",
              "    <tr>\n",
              "      <th>12</th>\n",
              "      <td>[webapps] Spiceworks 7.5 - HTTP Header #Inject...</td>\n",
              "      <td>https://t.co/o0xkPu4JkZ</td>\n",
              "      <td>8673</td>\n",
              "      <td>0</td>\n",
              "      <td>False</td>\n",
              "    </tr>\n",
              "    <tr>\n",
              "      <th>13</th>\n",
              "      <td>Cyberpunk 2077 speedrunners have found a bunny...</td>\n",
              "      <td>https://t.co/7cU6tbyG7Q</td>\n",
              "      <td>1457</td>\n",
              "      <td>40</td>\n",
              "      <td>False</td>\n",
              "    </tr>\n",
              "    <tr>\n",
              "      <th>14</th>\n",
              "      <td>Exploit the foregoing food lifestyle process s...</td>\n",
              "      <td>https://t.co/1vltJeNKCp</td>\n",
              "      <td>8564</td>\n",
              "      <td>2</td>\n",
              "      <td>False</td>\n",
              "    </tr>\n",
              "    <tr>\n",
              "      <th>15</th>\n",
              "      <td>(L'https://t.co/I7xPEajCV1): #Rugby - Top 14 -...</td>\n",
              "      <td>https://t.co/I7xPEajCV1):</td>\n",
              "      <td>2572</td>\n",
              "      <td>13</td>\n",
              "      <td>False</td>\n",
              "    </tr>\n",
              "    <tr>\n",
              "      <th>16</th>\n",
              "      <td>It's possible to have much more capacity, an e...</td>\n",
              "      <td>https://t.co/qcLQN5gl49</td>\n",
              "      <td>45824</td>\n",
              "      <td>40</td>\n",
              "      <td>False</td>\n",
              "    </tr>\n",
              "    <tr>\n",
              "      <th>17</th>\n",
              "      <td>You will see extra stamina, far better body as...</td>\n",
              "      <td>https://t.co/cyU5S5XaBQ</td>\n",
              "      <td>45824</td>\n",
              "      <td>40</td>\n",
              "      <td>False</td>\n",
              "    </tr>\n",
              "    <tr>\n",
              "      <th>18</th>\n",
              "      <td>completely exploit goal-oriented #bandwidth wi...</td>\n",
              "      <td>https://t.co/qTvwSQLAvj</td>\n",
              "      <td>1245</td>\n",
              "      <td>220</td>\n",
              "      <td>False</td>\n",
              "    </tr>\n",
              "    <tr>\n",
              "      <th>19</th>\n",
              "      <td>Northern Beaches residents exploit Covid-19 lo...</td>\n",
              "      <td>https://t.co/aRxftszFtZ</td>\n",
              "      <td>369</td>\n",
              "      <td>185</td>\n",
              "      <td>False</td>\n",
              "    </tr>\n",
              "  </tbody>\n",
              "</table>\n",
              "</div>"
            ],
            "text/plain": [
              "                                            TweetText  ... verified\n",
              "0   OL : L'exploit face à Man City élu match de l'...  ...    False\n",
              "1   Republican efforts to undermine Biden victory ...  ...    False\n",
              "2   The scattershot efforts to overturn President-...  ...    False\n",
              "3   @MSNBC Only goes to show, how #DonaldTrump wil...  ...    False\n",
              "4   exploit frictionless #supply-chains with #doma...  ...    False\n",
              "5   #DeFi insurer @CoverProtocol was exploited for...  ...    False\n",
              "6   Thanks for TAB message format. I did some expl...  ...    False\n",
              "7   I ruin credit scores, marriages &amp; manipula...  ...    False\n",
              "8   Thinking of publishing the Next Exploit source...  ...    False\n",
              "9   Cyberpunk 2077 speedrunners have found a bunny...  ...    False\n",
              "10  Tuvaluans will see how much corporations are w...  ...    False\n",
              "11  Packet Storm New Exploits For 2020 https://t.c...  ...    False\n",
              "12  [webapps] Spiceworks 7.5 - HTTP Header #Inject...  ...    False\n",
              "13  Cyberpunk 2077 speedrunners have found a bunny...  ...    False\n",
              "14  Exploit the foregoing food lifestyle process s...  ...    False\n",
              "15  (L'https://t.co/I7xPEajCV1): #Rugby - Top 14 -...  ...    False\n",
              "16  It's possible to have much more capacity, an e...  ...    False\n",
              "17  You will see extra stamina, far better body as...  ...    False\n",
              "18  completely exploit goal-oriented #bandwidth wi...  ...    False\n",
              "19  Northern Beaches residents exploit Covid-19 lo...  ...    False\n",
              "\n",
              "[20 rows x 5 columns]"
            ]
          },
          "metadata": {
            "tags": []
          },
          "execution_count": 10
        }
      ]
    }
  ]
}