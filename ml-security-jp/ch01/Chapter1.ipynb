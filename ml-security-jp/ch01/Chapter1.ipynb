{
  "nbformat": 4,
  "nbformat_minor": 0,
  "metadata": {
    "colab": {
      "name": "Chapter1.ipynb",
      "provenance": []
    },
    "kernelspec": {
      "name": "python3",
      "display_name": "Python 3"
    },
    "language_info": {
      "name": "python"
    }
  },
  "cells": [
    {
      "cell_type": "markdown",
      "metadata": {
        "id": "icMuF6uzg5qR"
      },
      "source": [
        "## 1章 情報セキュリティエンジニアのための機械学習入門"
      ]
    },
    {
      "cell_type": "code",
      "metadata": {
        "id": "8cX0lhShg2D3"
      },
      "source": [
        "print(\"Hello world!\")"
      ],
      "execution_count": null,
      "outputs": []
    }
  ]
}